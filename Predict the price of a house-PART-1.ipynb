{
 "cells": [
  {
   "cell_type": "markdown",
   "id": "cf6152f2",
   "metadata": {},
   "source": [
    "# Import Packages"
   ]
  },
  {
   "cell_type": "code",
   "execution_count": 1,
   "id": "1a39bf48",
   "metadata": {},
   "outputs": [],
   "source": [
    "import pandas as pd\n",
    "import numpy as np\n",
    "import matplotlib.pyplot as plt\n",
    "import seaborn as sns\n",
    "from plotly import tools\n",
    "import plotly.express as px\n",
    "import plotly.graph_objects as go"
   ]
  },
  {
   "cell_type": "markdown",
   "id": "36d13477",
   "metadata": {},
   "source": [
    "# Loading Dataset"
   ]
  },
  {
   "cell_type": "markdown",
   "id": "fbb67608",
   "metadata": {},
   "source": [
    "* In this task we need to predict the future prices of the house in this dependent variable is continuous. So, here we use linear regression Model."
   ]
  },
  {
   "cell_type": "code",
   "execution_count": 2,
   "id": "34f3b07d",
   "metadata": {
    "scrolled": true
   },
   "outputs": [
    {
     "data": {
      "text/html": [
       "<div>\n",
       "<style scoped>\n",
       "    .dataframe tbody tr th:only-of-type {\n",
       "        vertical-align: middle;\n",
       "    }\n",
       "\n",
       "    .dataframe tbody tr th {\n",
       "        vertical-align: top;\n",
       "    }\n",
       "\n",
       "    .dataframe thead th {\n",
       "        text-align: right;\n",
       "    }\n",
       "</style>\n",
       "<table border=\"1\" class=\"dataframe\">\n",
       "  <thead>\n",
       "    <tr style=\"text-align: right;\">\n",
       "      <th></th>\n",
       "      <th>Transaction date</th>\n",
       "      <th>House Age</th>\n",
       "      <th>Distance from nearest Metro station (km)</th>\n",
       "      <th>Number of convenience stores</th>\n",
       "      <th>latitude</th>\n",
       "      <th>longitude</th>\n",
       "      <th>Number of bedrooms</th>\n",
       "      <th>House size (sqft)</th>\n",
       "      <th>House price of unit area</th>\n",
       "    </tr>\n",
       "  </thead>\n",
       "  <tbody>\n",
       "    <tr>\n",
       "      <th>0</th>\n",
       "      <td>2012.916667</td>\n",
       "      <td>32.0</td>\n",
       "      <td>84.87882</td>\n",
       "      <td>10</td>\n",
       "      <td>24.98298</td>\n",
       "      <td>121.54024</td>\n",
       "      <td>1</td>\n",
       "      <td>575</td>\n",
       "      <td>37.9</td>\n",
       "    </tr>\n",
       "    <tr>\n",
       "      <th>1</th>\n",
       "      <td>2012.916667</td>\n",
       "      <td>19.5</td>\n",
       "      <td>306.59470</td>\n",
       "      <td>9</td>\n",
       "      <td>24.98034</td>\n",
       "      <td>121.53951</td>\n",
       "      <td>2</td>\n",
       "      <td>1240</td>\n",
       "      <td>42.2</td>\n",
       "    </tr>\n",
       "    <tr>\n",
       "      <th>2</th>\n",
       "      <td>2013.583333</td>\n",
       "      <td>13.3</td>\n",
       "      <td>561.98450</td>\n",
       "      <td>5</td>\n",
       "      <td>24.98746</td>\n",
       "      <td>121.54391</td>\n",
       "      <td>3</td>\n",
       "      <td>1060</td>\n",
       "      <td>47.3</td>\n",
       "    </tr>\n",
       "    <tr>\n",
       "      <th>3</th>\n",
       "      <td>2013.500000</td>\n",
       "      <td>13.3</td>\n",
       "      <td>561.98450</td>\n",
       "      <td>5</td>\n",
       "      <td>24.98746</td>\n",
       "      <td>121.54391</td>\n",
       "      <td>2</td>\n",
       "      <td>875</td>\n",
       "      <td>54.8</td>\n",
       "    </tr>\n",
       "    <tr>\n",
       "      <th>4</th>\n",
       "      <td>2012.833333</td>\n",
       "      <td>5.0</td>\n",
       "      <td>390.56840</td>\n",
       "      <td>5</td>\n",
       "      <td>24.97937</td>\n",
       "      <td>121.54245</td>\n",
       "      <td>1</td>\n",
       "      <td>491</td>\n",
       "      <td>43.1</td>\n",
       "    </tr>\n",
       "    <tr>\n",
       "      <th>...</th>\n",
       "      <td>...</td>\n",
       "      <td>...</td>\n",
       "      <td>...</td>\n",
       "      <td>...</td>\n",
       "      <td>...</td>\n",
       "      <td>...</td>\n",
       "      <td>...</td>\n",
       "      <td>...</td>\n",
       "      <td>...</td>\n",
       "    </tr>\n",
       "    <tr>\n",
       "      <th>409</th>\n",
       "      <td>2013.000000</td>\n",
       "      <td>13.7</td>\n",
       "      <td>4082.01500</td>\n",
       "      <td>0</td>\n",
       "      <td>24.94155</td>\n",
       "      <td>121.50381</td>\n",
       "      <td>3</td>\n",
       "      <td>803</td>\n",
       "      <td>15.4</td>\n",
       "    </tr>\n",
       "    <tr>\n",
       "      <th>410</th>\n",
       "      <td>2012.666667</td>\n",
       "      <td>5.6</td>\n",
       "      <td>90.45606</td>\n",
       "      <td>9</td>\n",
       "      <td>24.97433</td>\n",
       "      <td>121.54310</td>\n",
       "      <td>2</td>\n",
       "      <td>1278</td>\n",
       "      <td>50.0</td>\n",
       "    </tr>\n",
       "    <tr>\n",
       "      <th>411</th>\n",
       "      <td>2013.250000</td>\n",
       "      <td>18.8</td>\n",
       "      <td>390.96960</td>\n",
       "      <td>7</td>\n",
       "      <td>24.97923</td>\n",
       "      <td>121.53986</td>\n",
       "      <td>1</td>\n",
       "      <td>503</td>\n",
       "      <td>40.6</td>\n",
       "    </tr>\n",
       "    <tr>\n",
       "      <th>412</th>\n",
       "      <td>2013.000000</td>\n",
       "      <td>8.1</td>\n",
       "      <td>104.81010</td>\n",
       "      <td>5</td>\n",
       "      <td>24.96674</td>\n",
       "      <td>121.54067</td>\n",
       "      <td>1</td>\n",
       "      <td>597</td>\n",
       "      <td>52.5</td>\n",
       "    </tr>\n",
       "    <tr>\n",
       "      <th>413</th>\n",
       "      <td>2013.500000</td>\n",
       "      <td>6.5</td>\n",
       "      <td>90.45606</td>\n",
       "      <td>9</td>\n",
       "      <td>24.97433</td>\n",
       "      <td>121.54310</td>\n",
       "      <td>2</td>\n",
       "      <td>1097</td>\n",
       "      <td>63.9</td>\n",
       "    </tr>\n",
       "  </tbody>\n",
       "</table>\n",
       "<p>414 rows × 9 columns</p>\n",
       "</div>"
      ],
      "text/plain": [
       "     Transaction date  House Age  Distance from nearest Metro station (km)  \\\n",
       "0         2012.916667       32.0                                  84.87882   \n",
       "1         2012.916667       19.5                                 306.59470   \n",
       "2         2013.583333       13.3                                 561.98450   \n",
       "3         2013.500000       13.3                                 561.98450   \n",
       "4         2012.833333        5.0                                 390.56840   \n",
       "..                ...        ...                                       ...   \n",
       "409       2013.000000       13.7                                4082.01500   \n",
       "410       2012.666667        5.6                                  90.45606   \n",
       "411       2013.250000       18.8                                 390.96960   \n",
       "412       2013.000000        8.1                                 104.81010   \n",
       "413       2013.500000        6.5                                  90.45606   \n",
       "\n",
       "     Number of convenience stores  latitude  longitude  Number of bedrooms  \\\n",
       "0                              10  24.98298  121.54024                   1   \n",
       "1                               9  24.98034  121.53951                   2   \n",
       "2                               5  24.98746  121.54391                   3   \n",
       "3                               5  24.98746  121.54391                   2   \n",
       "4                               5  24.97937  121.54245                   1   \n",
       "..                            ...       ...        ...                 ...   \n",
       "409                             0  24.94155  121.50381                   3   \n",
       "410                             9  24.97433  121.54310                   2   \n",
       "411                             7  24.97923  121.53986                   1   \n",
       "412                             5  24.96674  121.54067                   1   \n",
       "413                             9  24.97433  121.54310                   2   \n",
       "\n",
       "     House size (sqft)  House price of unit area  \n",
       "0                  575                      37.9  \n",
       "1                 1240                      42.2  \n",
       "2                 1060                      47.3  \n",
       "3                  875                      54.8  \n",
       "4                  491                      43.1  \n",
       "..                 ...                       ...  \n",
       "409                803                      15.4  \n",
       "410               1278                      50.0  \n",
       "411                503                      40.6  \n",
       "412                597                      52.5  \n",
       "413               1097                      63.9  \n",
       "\n",
       "[414 rows x 9 columns]"
      ]
     },
     "execution_count": 2,
     "metadata": {},
     "output_type": "execute_result"
    }
   ],
   "source": [
    "# Loading The Dataset\n",
    "db=pd.read_excel(\"DS - Assignment Part 1 data set.xlsx\")\n",
    "db"
   ]
  },
  {
   "cell_type": "code",
   "execution_count": 3,
   "id": "2c9922d1",
   "metadata": {},
   "outputs": [
    {
     "data": {
      "text/plain": [
       "(414, 9)"
      ]
     },
     "execution_count": 3,
     "metadata": {},
     "output_type": "execute_result"
    }
   ],
   "source": [
    "db.shape"
   ]
  },
  {
   "cell_type": "code",
   "execution_count": 4,
   "id": "6309c1f1",
   "metadata": {
    "scrolled": true
   },
   "outputs": [
    {
     "name": "stdout",
     "output_type": "stream",
     "text": [
      "<class 'pandas.core.frame.DataFrame'>\n",
      "RangeIndex: 414 entries, 0 to 413\n",
      "Data columns (total 9 columns):\n",
      " #   Column                                    Non-Null Count  Dtype  \n",
      "---  ------                                    --------------  -----  \n",
      " 0   Transaction date                          414 non-null    float64\n",
      " 1   House Age                                 414 non-null    float64\n",
      " 2   Distance from nearest Metro station (km)  414 non-null    float64\n",
      " 3   Number of convenience stores              414 non-null    int64  \n",
      " 4   latitude                                  414 non-null    float64\n",
      " 5   longitude                                 414 non-null    float64\n",
      " 6   Number of bedrooms                        414 non-null    int64  \n",
      " 7   House size (sqft)                         414 non-null    int64  \n",
      " 8   House price of unit area                  414 non-null    float64\n",
      "dtypes: float64(6), int64(3)\n",
      "memory usage: 29.2 KB\n"
     ]
    }
   ],
   "source": [
    "db.info()"
   ]
  },
  {
   "cell_type": "code",
   "execution_count": 5,
   "id": "229a4ef2",
   "metadata": {
    "scrolled": false
   },
   "outputs": [
    {
     "data": {
      "text/html": [
       "<div>\n",
       "<style scoped>\n",
       "    .dataframe tbody tr th:only-of-type {\n",
       "        vertical-align: middle;\n",
       "    }\n",
       "\n",
       "    .dataframe tbody tr th {\n",
       "        vertical-align: top;\n",
       "    }\n",
       "\n",
       "    .dataframe thead th {\n",
       "        text-align: right;\n",
       "    }\n",
       "</style>\n",
       "<table border=\"1\" class=\"dataframe\">\n",
       "  <thead>\n",
       "    <tr style=\"text-align: right;\">\n",
       "      <th></th>\n",
       "      <th>Transaction date</th>\n",
       "      <th>House Age</th>\n",
       "      <th>Distance from nearest Metro station (km)</th>\n",
       "      <th>Number of convenience stores</th>\n",
       "      <th>latitude</th>\n",
       "      <th>longitude</th>\n",
       "      <th>Number of bedrooms</th>\n",
       "      <th>House size (sqft)</th>\n",
       "      <th>House price of unit area</th>\n",
       "    </tr>\n",
       "  </thead>\n",
       "  <tbody>\n",
       "    <tr>\n",
       "      <th>count</th>\n",
       "      <td>414.000000</td>\n",
       "      <td>414.000000</td>\n",
       "      <td>414.000000</td>\n",
       "      <td>414.000000</td>\n",
       "      <td>414.000000</td>\n",
       "      <td>414.000000</td>\n",
       "      <td>414.000000</td>\n",
       "      <td>414.000000</td>\n",
       "      <td>414.000000</td>\n",
       "    </tr>\n",
       "    <tr>\n",
       "      <th>mean</th>\n",
       "      <td>2013.148953</td>\n",
       "      <td>17.712560</td>\n",
       "      <td>1083.885689</td>\n",
       "      <td>4.094203</td>\n",
       "      <td>24.969030</td>\n",
       "      <td>121.533361</td>\n",
       "      <td>1.987923</td>\n",
       "      <td>931.475845</td>\n",
       "      <td>37.980193</td>\n",
       "    </tr>\n",
       "    <tr>\n",
       "      <th>std</th>\n",
       "      <td>0.281995</td>\n",
       "      <td>11.392485</td>\n",
       "      <td>1262.109595</td>\n",
       "      <td>2.945562</td>\n",
       "      <td>0.012410</td>\n",
       "      <td>0.015347</td>\n",
       "      <td>0.818875</td>\n",
       "      <td>348.910269</td>\n",
       "      <td>13.606488</td>\n",
       "    </tr>\n",
       "    <tr>\n",
       "      <th>min</th>\n",
       "      <td>2012.666667</td>\n",
       "      <td>0.000000</td>\n",
       "      <td>23.382840</td>\n",
       "      <td>0.000000</td>\n",
       "      <td>24.932070</td>\n",
       "      <td>121.473530</td>\n",
       "      <td>1.000000</td>\n",
       "      <td>402.000000</td>\n",
       "      <td>7.600000</td>\n",
       "    </tr>\n",
       "    <tr>\n",
       "      <th>25%</th>\n",
       "      <td>2012.916667</td>\n",
       "      <td>9.025000</td>\n",
       "      <td>289.324800</td>\n",
       "      <td>1.000000</td>\n",
       "      <td>24.963000</td>\n",
       "      <td>121.528085</td>\n",
       "      <td>1.000000</td>\n",
       "      <td>548.000000</td>\n",
       "      <td>27.700000</td>\n",
       "    </tr>\n",
       "    <tr>\n",
       "      <th>50%</th>\n",
       "      <td>2013.166667</td>\n",
       "      <td>16.100000</td>\n",
       "      <td>492.231300</td>\n",
       "      <td>4.000000</td>\n",
       "      <td>24.971100</td>\n",
       "      <td>121.538630</td>\n",
       "      <td>2.000000</td>\n",
       "      <td>975.000000</td>\n",
       "      <td>38.450000</td>\n",
       "    </tr>\n",
       "    <tr>\n",
       "      <th>75%</th>\n",
       "      <td>2013.416667</td>\n",
       "      <td>28.150000</td>\n",
       "      <td>1454.279000</td>\n",
       "      <td>6.000000</td>\n",
       "      <td>24.977455</td>\n",
       "      <td>121.543305</td>\n",
       "      <td>3.000000</td>\n",
       "      <td>1234.750000</td>\n",
       "      <td>46.600000</td>\n",
       "    </tr>\n",
       "    <tr>\n",
       "      <th>max</th>\n",
       "      <td>2013.583333</td>\n",
       "      <td>43.800000</td>\n",
       "      <td>6488.021000</td>\n",
       "      <td>10.000000</td>\n",
       "      <td>25.014590</td>\n",
       "      <td>121.566270</td>\n",
       "      <td>3.000000</td>\n",
       "      <td>1500.000000</td>\n",
       "      <td>117.500000</td>\n",
       "    </tr>\n",
       "  </tbody>\n",
       "</table>\n",
       "</div>"
      ],
      "text/plain": [
       "       Transaction date   House Age  Distance from nearest Metro station (km)  \\\n",
       "count        414.000000  414.000000                                414.000000   \n",
       "mean        2013.148953   17.712560                               1083.885689   \n",
       "std            0.281995   11.392485                               1262.109595   \n",
       "min         2012.666667    0.000000                                 23.382840   \n",
       "25%         2012.916667    9.025000                                289.324800   \n",
       "50%         2013.166667   16.100000                                492.231300   \n",
       "75%         2013.416667   28.150000                               1454.279000   \n",
       "max         2013.583333   43.800000                               6488.021000   \n",
       "\n",
       "       Number of convenience stores    latitude   longitude  \\\n",
       "count                    414.000000  414.000000  414.000000   \n",
       "mean                       4.094203   24.969030  121.533361   \n",
       "std                        2.945562    0.012410    0.015347   \n",
       "min                        0.000000   24.932070  121.473530   \n",
       "25%                        1.000000   24.963000  121.528085   \n",
       "50%                        4.000000   24.971100  121.538630   \n",
       "75%                        6.000000   24.977455  121.543305   \n",
       "max                       10.000000   25.014590  121.566270   \n",
       "\n",
       "       Number of bedrooms  House size (sqft)  House price of unit area  \n",
       "count          414.000000         414.000000                414.000000  \n",
       "mean             1.987923         931.475845                 37.980193  \n",
       "std              0.818875         348.910269                 13.606488  \n",
       "min              1.000000         402.000000                  7.600000  \n",
       "25%              1.000000         548.000000                 27.700000  \n",
       "50%              2.000000         975.000000                 38.450000  \n",
       "75%              3.000000        1234.750000                 46.600000  \n",
       "max              3.000000        1500.000000                117.500000  "
      ]
     },
     "execution_count": 5,
     "metadata": {},
     "output_type": "execute_result"
    }
   ],
   "source": [
    "db.describe()"
   ]
  },
  {
   "cell_type": "markdown",
   "id": "56e187ba",
   "metadata": {},
   "source": [
    "# Exploratory Data Analysis"
   ]
  },
  {
   "cell_type": "markdown",
   "id": "e685d31a",
   "metadata": {},
   "source": [
    "##  Checking missing values"
   ]
  },
  {
   "cell_type": "code",
   "execution_count": 6,
   "id": "f558f6c7",
   "metadata": {},
   "outputs": [
    {
     "data": {
      "text/plain": [
       "Transaction date                            0\n",
       "House Age                                   0\n",
       "Distance from nearest Metro station (km)    0\n",
       "Number of convenience stores                0\n",
       "latitude                                    0\n",
       "longitude                                   0\n",
       "Number of bedrooms                          0\n",
       "House size (sqft)                           0\n",
       "House price of unit area                    0\n",
       "dtype: int64"
      ]
     },
     "execution_count": 6,
     "metadata": {},
     "output_type": "execute_result"
    }
   ],
   "source": [
    "db.isnull().sum()"
   ]
  },
  {
   "cell_type": "markdown",
   "id": "fb15cb00",
   "metadata": {},
   "source": [
    "* Here there is no missing values in the data"
   ]
  },
  {
   "cell_type": "markdown",
   "id": "be65e6a4",
   "metadata": {},
   "source": [
    "## Checking Outliers"
   ]
  },
  {
   "cell_type": "code",
   "execution_count": 53,
   "id": "00aa1ed4",
   "metadata": {
    "scrolled": true
   },
   "outputs": [
    {
     "data": {
      "text/plain": [
       "<AxesSubplot:>"
      ]
     },
     "execution_count": 53,
     "metadata": {},
     "output_type": "execute_result"
    },
    {
     "data": {
      "image/png": "[encoded data removed]",
      "text/plain": [
       "<Figure size 1080x720 with 1 Axes>"
      ]
     },
     "metadata": {
      "needs_background": "light"
     },
     "output_type": "display_data"
    }
   ],
   "source": [
    "# Using the boxplot to check outliers\n",
    "plt.figure(figsize=(15,10))\n",
    "sns.boxplot(data=db)"
   ]
  },
  {
   "cell_type": "code",
   "execution_count": 8,
   "id": "36a0e52f",
   "metadata": {
    "scrolled": false
   },
   "outputs": [
    {
     "name": "stderr",
     "output_type": "stream",
     "text": [
      "C:\\ProgramData\\Anaconda3\\lib\\site-packages\\seaborn\\_decorators.py:36: FutureWarning:\n",
      "\n",
      "Pass the following variable as a keyword arg: x. From version 0.12, the only valid positional argument will be `data`, and passing other arguments without an explicit keyword will result in an error or misinterpretation.\n",
      "\n"
     ]
    },
    {
     "data": {
      "text/plain": [
       "<AxesSubplot:xlabel='Distance from nearest Metro station (km)'>"
      ]
     },
     "execution_count": 8,
     "metadata": {},
     "output_type": "execute_result"
    },
    {
     "data": {
      "image/png": "[encoded data removed]",
      "text/plain": [
       "<Figure size 432x288 with 1 Axes>"
      ]
     },
     "metadata": {
      "needs_background": "light"
     },
     "output_type": "display_data"
    }
   ],
   "source": [
    "sns.boxplot(db[\"Distance from nearest Metro station (km)\"])"
   ]
  },
  {
   "cell_type": "code",
   "execution_count": 9,
   "id": "9b87e746",
   "metadata": {
    "scrolled": true
   },
   "outputs": [
    {
     "data": {
      "text/plain": [
       "1783.18"
      ]
     },
     "execution_count": 9,
     "metadata": {},
     "output_type": "execute_result"
    }
   ],
   "source": [
    "a=db[\"Distance from nearest Metro station (km)\"].quantile(0.80)\n",
    "a"
   ]
  },
  {
   "cell_type": "code",
   "execution_count": 10,
   "id": "8473c42c",
   "metadata": {
    "scrolled": false
   },
   "outputs": [
    {
     "name": "stderr",
     "output_type": "stream",
     "text": [
      "C:\\ProgramData\\Anaconda3\\lib\\site-packages\\seaborn\\_decorators.py:36: FutureWarning:\n",
      "\n",
      "Pass the following variable as a keyword arg: x. From version 0.12, the only valid positional argument will be `data`, and passing other arguments without an explicit keyword will result in an error or misinterpretation.\n",
      "\n"
     ]
    },
    {
     "data": {
      "text/plain": [
       "<AxesSubplot:xlabel='Distance from nearest Metro station (km)'>"
      ]
     },
     "execution_count": 10,
     "metadata": {},
     "output_type": "execute_result"
    },
    {
     "data": {
      "image/png": "[encoded data removed]",
      "text/plain": [
       "<Figure size 432x288 with 1 Axes>"
      ]
     },
     "metadata": {
      "needs_background": "light"
     },
     "output_type": "display_data"
    }
   ],
   "source": [
    "dbo=db[db[\"Distance from nearest Metro station (km)\"]<a]\n",
    "sns.boxplot(dbo[\"Distance from nearest Metro station (km)\"])"
   ]
  },
  {
   "cell_type": "markdown",
   "id": "76bc6da7",
   "metadata": {},
   "source": [
    "* While removing of bigger value or outlier we use quantile 0.80. but we loss the *20%* of the data so that we don't apply quantile here."
   ]
  },
  {
   "cell_type": "markdown",
   "id": "e5273c74",
   "metadata": {},
   "source": [
    "# Segregation of Objective And Numaric Columns"
   ]
  },
  {
   "cell_type": "code",
   "execution_count": 11,
   "id": "9b946b36",
   "metadata": {},
   "outputs": [],
   "source": [
    "obj=[]\n",
    "num=[]\n",
    "for col in db.columns:\n",
    "    if db[col].dtype==\"O\":\n",
    "        obj.append(col)\n",
    "    else:\n",
    "        num.append(col)\n"
   ]
  },
  {
   "cell_type": "code",
   "execution_count": 12,
   "id": "b627c181",
   "metadata": {},
   "outputs": [
    {
     "data": {
      "text/plain": [
       "[]"
      ]
     },
     "execution_count": 12,
     "metadata": {},
     "output_type": "execute_result"
    }
   ],
   "source": [
    "obj"
   ]
  },
  {
   "cell_type": "code",
   "execution_count": 13,
   "id": "8cd98112",
   "metadata": {
    "scrolled": true
   },
   "outputs": [
    {
     "data": {
      "text/plain": [
       "['Transaction date',\n",
       " 'House Age',\n",
       " 'Distance from nearest Metro station (km)',\n",
       " 'Number of convenience stores',\n",
       " 'latitude',\n",
       " 'longitude',\n",
       " 'Number of bedrooms',\n",
       " 'House size (sqft)',\n",
       " 'House price of unit area']"
      ]
     },
     "execution_count": 13,
     "metadata": {},
     "output_type": "execute_result"
    }
   ],
   "source": [
    "num"
   ]
  },
  {
   "cell_type": "markdown",
   "id": "1d974c63",
   "metadata": {},
   "source": [
    "## Creating pairplot to finding the correlation between the variables"
   ]
  },
  {
   "cell_type": "code",
   "execution_count": 14,
   "id": "95ef56ea",
   "metadata": {
    "scrolled": true
   },
   "outputs": [
    {
     "data": {
      "text/plain": [
       "<seaborn.axisgrid.PairGrid at 0x24176e06160>"
      ]
     },
     "execution_count": 14,
     "metadata": {},
     "output_type": "execute_result"
    },
    {
     "data": {
      "image/png": "[encoded data removed]",
      "text/plain": [
       "<Figure size 2880x360 with 8 Axes>"
      ]
     },
     "metadata": {
      "needs_background": "light"
     },
     "output_type": "display_data"
    }
   ],
   "source": [
    "sns.pairplot(db,x_vars=['Transaction date','House Age','Distance from nearest Metro station (km)','Number of convenience stores','latitude','longitude','Number of bedrooms','House size (sqft)'],y_vars='House price of unit area',height=5)"
   ]
  },
  {
   "cell_type": "code",
   "execution_count": 54,
   "id": "c20984cf",
   "metadata": {
    "scrolled": false
   },
   "outputs": [
    {
     "data": {
      "text/plain": [
       "<seaborn.axisgrid.PairGrid at 0x2417bd559a0>"
      ]
     },
     "execution_count": 54,
     "metadata": {},
     "output_type": "execute_result"
    },
    {
     "data": {
      "image/png": "[encoded data removed]",
      "text/plain": [
       "<Figure size 360x360 with 1 Axes>"
      ]
     },
     "metadata": {
      "needs_background": "light"
     },
     "output_type": "display_data"
    }
   ],
   "source": [
    "sns.pairplot(db,x_vars=['Transaction date',],y_vars='House price of unit area',height=5,kind='reg')"
   ]
  },
  {
   "cell_type": "markdown",
   "id": "8822563a",
   "metadata": {},
   "source": [
    "* There is no correlation between Transaction date and House price of unit area variablrs"
   ]
  },
  {
   "cell_type": "code",
   "execution_count": 55,
   "id": "762a61df",
   "metadata": {
    "scrolled": false
   },
   "outputs": [
    {
     "data": {
      "text/plain": [
       "<seaborn.axisgrid.PairGrid at 0x2417bd55760>"
      ]
     },
     "execution_count": 55,
     "metadata": {},
     "output_type": "execute_result"
    },
    {
     "data": {
      "image/png": "[encoded data removed]",
      "text/plain": [
       "<Figure size 360x360 with 1 Axes>"
      ]
     },
     "metadata": {
      "needs_background": "light"
     },
     "output_type": "display_data"
    }
   ],
   "source": [
    "sns.pairplot(db,x_vars=['House Age',],y_vars='House price of unit area',height=5,kind='reg')"
   ]
  },
  {
   "cell_type": "markdown",
   "id": "4063ce5e",
   "metadata": {},
   "source": [
    "* Here Negative correlation between the House age and House price of unit area variablrs. When ever the age of the house increses the price of the house slightly decreases respectively."
   ]
  },
  {
   "cell_type": "code",
   "execution_count": 56,
   "id": "c978c19e",
   "metadata": {
    "scrolled": true
   },
   "outputs": [
    {
     "data": {
      "text/plain": [
       "<seaborn.axisgrid.PairGrid at 0x2417bd557c0>"
      ]
     },
     "execution_count": 56,
     "metadata": {},
     "output_type": "execute_result"
    },
    {
     "data": {
      "image/png": "[encoded data removed]",
      "text/plain": [
       "<Figure size 360x360 with 1 Axes>"
      ]
     },
     "metadata": {
      "needs_background": "light"
     },
     "output_type": "display_data"
    }
   ],
   "source": [
    "sns.pairplot(db,x_vars=[\n",
    " 'Distance from nearest Metro station (km)'],y_vars='House price of unit area',height=5,kind='reg')"
   ]
  },
  {
   "cell_type": "markdown",
   "id": "3706e4c7",
   "metadata": {},
   "source": [
    "* Here Negative correlation between the istance from nearest Metro station (km) and House price of unit area variablrs. When ever the istance from nearest Metro station (km) increses the price of the house decreases respectively."
   ]
  },
  {
   "cell_type": "code",
   "execution_count": 57,
   "id": "08643fa9",
   "metadata": {
    "scrolled": false
   },
   "outputs": [
    {
     "data": {
      "text/plain": [
       "<seaborn.axisgrid.PairGrid at 0x2417be073d0>"
      ]
     },
     "execution_count": 57,
     "metadata": {},
     "output_type": "execute_result"
    },
    {
     "data": {
      "image/png": "[encoded data removed]",
      "text/plain": [
       "<Figure size 360x360 with 1 Axes>"
      ]
     },
     "metadata": {
      "needs_background": "light"
     },
     "output_type": "display_data"
    }
   ],
   "source": [
    "sns.pairplot(db,x_vars=['Number of convenience stores',],y_vars='House price of unit area',height=5,kind='reg')"
   ]
  },
  {
   "cell_type": "markdown",
   "id": "63ec1a57",
   "metadata": {},
   "source": [
    "* There is a correlation between Number of convenience stores and House price of unit area variablrs. when ever the Number of convenience stores are increased the price of the house also increased respectively."
   ]
  },
  {
   "cell_type": "code",
   "execution_count": 58,
   "id": "38d3e5ec",
   "metadata": {
    "scrolled": false
   },
   "outputs": [
    {
     "data": {
      "text/plain": [
       "<seaborn.axisgrid.PairGrid at 0x2417be74df0>"
      ]
     },
     "execution_count": 58,
     "metadata": {},
     "output_type": "execute_result"
    },
    {
     "data": {
      "image/png": "[encoded data removed]",
      "text/plain": [
       "<Figure size 720x360 with 2 Axes>"
      ]
     },
     "metadata": {
      "needs_background": "light"
     },
     "output_type": "display_data"
    }
   ],
   "source": [
    "sns.pairplot(db,x_vars=['latitude','longitude',],y_vars='House price of unit area',height=5,kind='reg')"
   ]
  },
  {
   "cell_type": "markdown",
   "id": "6af8a502",
   "metadata": {},
   "source": [
    "* There is no correlation between Transaction date and House price of unit area variablrs"
   ]
  },
  {
   "cell_type": "code",
   "execution_count": 59,
   "id": "1169fac0",
   "metadata": {
    "scrolled": false
   },
   "outputs": [
    {
     "data": {
      "text/plain": [
       "<seaborn.axisgrid.PairGrid at 0x2417bf44190>"
      ]
     },
     "execution_count": 59,
     "metadata": {},
     "output_type": "execute_result"
    },
    {
     "data": {
      "image/png": "[encoded data removed]",
      "text/plain": [
       "<Figure size 720x360 with 2 Axes>"
      ]
     },
     "metadata": {
      "needs_background": "light"
     },
     "output_type": "display_data"
    }
   ],
   "source": [
    "sns.pairplot(db,x_vars=['Number of bedrooms','House size (sqft)'],y_vars='House price of unit area',height=5,kind='reg')"
   ]
  },
  {
   "cell_type": "markdown",
   "id": "05b01938",
   "metadata": {},
   "source": [
    "* There is small correlation between number of bedrooms,house size and House price of unit area variablrs"
   ]
  },
  {
   "cell_type": "code",
   "execution_count": 21,
   "id": "a3a03678",
   "metadata": {},
   "outputs": [
    {
     "data": {
      "text/html": [
       "<div>\n",
       "<style scoped>\n",
       "    .dataframe tbody tr th:only-of-type {\n",
       "        vertical-align: middle;\n",
       "    }\n",
       "\n",
       "    .dataframe tbody tr th {\n",
       "        vertical-align: top;\n",
       "    }\n",
       "\n",
       "    .dataframe thead th {\n",
       "        text-align: right;\n",
       "    }\n",
       "</style>\n",
       "<table border=\"1\" class=\"dataframe\">\n",
       "  <thead>\n",
       "    <tr style=\"text-align: right;\">\n",
       "      <th></th>\n",
       "      <th>Transaction date</th>\n",
       "      <th>House Age</th>\n",
       "      <th>Distance from nearest Metro station (km)</th>\n",
       "      <th>Number of convenience stores</th>\n",
       "      <th>latitude</th>\n",
       "      <th>longitude</th>\n",
       "      <th>Number of bedrooms</th>\n",
       "      <th>House size (sqft)</th>\n",
       "      <th>House price of unit area</th>\n",
       "    </tr>\n",
       "  </thead>\n",
       "  <tbody>\n",
       "    <tr>\n",
       "      <th>Transaction date</th>\n",
       "      <td>1.000000</td>\n",
       "      <td>0.017542</td>\n",
       "      <td>0.060880</td>\n",
       "      <td>0.009544</td>\n",
       "      <td>0.035016</td>\n",
       "      <td>-0.041065</td>\n",
       "      <td>0.061985</td>\n",
       "      <td>0.068405</td>\n",
       "      <td>0.087529</td>\n",
       "    </tr>\n",
       "    <tr>\n",
       "      <th>House Age</th>\n",
       "      <td>0.017542</td>\n",
       "      <td>1.000000</td>\n",
       "      <td>0.025622</td>\n",
       "      <td>0.049593</td>\n",
       "      <td>0.054420</td>\n",
       "      <td>-0.048520</td>\n",
       "      <td>-0.008756</td>\n",
       "      <td>-0.060361</td>\n",
       "      <td>-0.210567</td>\n",
       "    </tr>\n",
       "    <tr>\n",
       "      <th>Distance from nearest Metro station (km)</th>\n",
       "      <td>0.060880</td>\n",
       "      <td>0.025622</td>\n",
       "      <td>1.000000</td>\n",
       "      <td>-0.602519</td>\n",
       "      <td>-0.591067</td>\n",
       "      <td>-0.806317</td>\n",
       "      <td>-0.046856</td>\n",
       "      <td>0.001795</td>\n",
       "      <td>-0.673613</td>\n",
       "    </tr>\n",
       "    <tr>\n",
       "      <th>Number of convenience stores</th>\n",
       "      <td>0.009544</td>\n",
       "      <td>0.049593</td>\n",
       "      <td>-0.602519</td>\n",
       "      <td>1.000000</td>\n",
       "      <td>0.444143</td>\n",
       "      <td>0.449099</td>\n",
       "      <td>0.043638</td>\n",
       "      <td>0.033286</td>\n",
       "      <td>0.571005</td>\n",
       "    </tr>\n",
       "    <tr>\n",
       "      <th>latitude</th>\n",
       "      <td>0.035016</td>\n",
       "      <td>0.054420</td>\n",
       "      <td>-0.591067</td>\n",
       "      <td>0.444143</td>\n",
       "      <td>1.000000</td>\n",
       "      <td>0.412924</td>\n",
       "      <td>0.043921</td>\n",
       "      <td>0.031696</td>\n",
       "      <td>0.546307</td>\n",
       "    </tr>\n",
       "    <tr>\n",
       "      <th>longitude</th>\n",
       "      <td>-0.041065</td>\n",
       "      <td>-0.048520</td>\n",
       "      <td>-0.806317</td>\n",
       "      <td>0.449099</td>\n",
       "      <td>0.412924</td>\n",
       "      <td>1.000000</td>\n",
       "      <td>0.041680</td>\n",
       "      <td>0.009322</td>\n",
       "      <td>0.523287</td>\n",
       "    </tr>\n",
       "    <tr>\n",
       "      <th>Number of bedrooms</th>\n",
       "      <td>0.061985</td>\n",
       "      <td>-0.008756</td>\n",
       "      <td>-0.046856</td>\n",
       "      <td>0.043638</td>\n",
       "      <td>0.043921</td>\n",
       "      <td>0.041680</td>\n",
       "      <td>1.000000</td>\n",
       "      <td>0.752276</td>\n",
       "      <td>0.050265</td>\n",
       "    </tr>\n",
       "    <tr>\n",
       "      <th>House size (sqft)</th>\n",
       "      <td>0.068405</td>\n",
       "      <td>-0.060361</td>\n",
       "      <td>0.001795</td>\n",
       "      <td>0.033286</td>\n",
       "      <td>0.031696</td>\n",
       "      <td>0.009322</td>\n",
       "      <td>0.752276</td>\n",
       "      <td>1.000000</td>\n",
       "      <td>0.046489</td>\n",
       "    </tr>\n",
       "    <tr>\n",
       "      <th>House price of unit area</th>\n",
       "      <td>0.087529</td>\n",
       "      <td>-0.210567</td>\n",
       "      <td>-0.673613</td>\n",
       "      <td>0.571005</td>\n",
       "      <td>0.546307</td>\n",
       "      <td>0.523287</td>\n",
       "      <td>0.050265</td>\n",
       "      <td>0.046489</td>\n",
       "      <td>1.000000</td>\n",
       "    </tr>\n",
       "  </tbody>\n",
       "</table>\n",
       "</div>"
      ],
      "text/plain": [
       "                                          Transaction date  House Age  \\\n",
       "Transaction date                                  1.000000   0.017542   \n",
       "House Age                                         0.017542   1.000000   \n",
       "Distance from nearest Metro station (km)          0.060880   0.025622   \n",
       "Number of convenience stores                      0.009544   0.049593   \n",
       "latitude                                          0.035016   0.054420   \n",
       "longitude                                        -0.041065  -0.048520   \n",
       "Number of bedrooms                                0.061985  -0.008756   \n",
       "House size (sqft)                                 0.068405  -0.060361   \n",
       "House price of unit area                          0.087529  -0.210567   \n",
       "\n",
       "                                          Distance from nearest Metro station (km)  \\\n",
       "Transaction date                                                          0.060880   \n",
       "House Age                                                                 0.025622   \n",
       "Distance from nearest Metro station (km)                                  1.000000   \n",
       "Number of convenience stores                                             -0.602519   \n",
       "latitude                                                                 -0.591067   \n",
       "longitude                                                                -0.806317   \n",
       "Number of bedrooms                                                       -0.046856   \n",
       "House size (sqft)                                                         0.001795   \n",
       "House price of unit area                                                 -0.673613   \n",
       "\n",
       "                                          Number of convenience stores  \\\n",
       "Transaction date                                              0.009544   \n",
       "House Age                                                     0.049593   \n",
       "Distance from nearest Metro station (km)                     -0.602519   \n",
       "Number of convenience stores                                  1.000000   \n",
       "latitude                                                      0.444143   \n",
       "longitude                                                     0.449099   \n",
       "Number of bedrooms                                            0.043638   \n",
       "House size (sqft)                                             0.033286   \n",
       "House price of unit area                                      0.571005   \n",
       "\n",
       "                                          latitude  longitude  \\\n",
       "Transaction date                          0.035016  -0.041065   \n",
       "House Age                                 0.054420  -0.048520   \n",
       "Distance from nearest Metro station (km) -0.591067  -0.806317   \n",
       "Number of convenience stores              0.444143   0.449099   \n",
       "latitude                                  1.000000   0.412924   \n",
       "longitude                                 0.412924   1.000000   \n",
       "Number of bedrooms                        0.043921   0.041680   \n",
       "House size (sqft)                         0.031696   0.009322   \n",
       "House price of unit area                  0.546307   0.523287   \n",
       "\n",
       "                                          Number of bedrooms  \\\n",
       "Transaction date                                    0.061985   \n",
       "House Age                                          -0.008756   \n",
       "Distance from nearest Metro station (km)           -0.046856   \n",
       "Number of convenience stores                        0.043638   \n",
       "latitude                                            0.043921   \n",
       "longitude                                           0.041680   \n",
       "Number of bedrooms                                  1.000000   \n",
       "House size (sqft)                                   0.752276   \n",
       "House price of unit area                            0.050265   \n",
       "\n",
       "                                          House size (sqft)  \\\n",
       "Transaction date                                   0.068405   \n",
       "House Age                                         -0.060361   \n",
       "Distance from nearest Metro station (km)           0.001795   \n",
       "Number of convenience stores                       0.033286   \n",
       "latitude                                           0.031696   \n",
       "longitude                                          0.009322   \n",
       "Number of bedrooms                                 0.752276   \n",
       "House size (sqft)                                  1.000000   \n",
       "House price of unit area                           0.046489   \n",
       "\n",
       "                                          House price of unit area  \n",
       "Transaction date                                          0.087529  \n",
       "House Age                                                -0.210567  \n",
       "Distance from nearest Metro station (km)                 -0.673613  \n",
       "Number of convenience stores                              0.571005  \n",
       "latitude                                                  0.546307  \n",
       "longitude                                                 0.523287  \n",
       "Number of bedrooms                                        0.050265  \n",
       "House size (sqft)                                         0.046489  \n",
       "House price of unit area                                  1.000000  "
      ]
     },
     "execution_count": 21,
     "metadata": {},
     "output_type": "execute_result"
    }
   ],
   "source": [
    "db.corr()"
   ]
  },
  {
   "cell_type": "markdown",
   "id": "fc223214",
   "metadata": {},
   "source": [
    "### Heat map "
   ]
  },
  {
   "cell_type": "code",
   "execution_count": 22,
   "id": "a83a97d8",
   "metadata": {
    "scrolled": false
   },
   "outputs": [
    {
     "data": {
      "text/plain": [
       "<AxesSubplot:>"
      ]
     },
     "execution_count": 22,
     "metadata": {},
     "output_type": "execute_result"
    },
    {
     "data": {
      "image/png": "[encoded data removed]",
      "text/plain": [
       "<Figure size 720x720 with 2 Axes>"
      ]
     },
     "metadata": {
      "needs_background": "light"
     },
     "output_type": "display_data"
    }
   ],
   "source": [
    "plt.figure(figsize=(10,10))\n",
    "sns.heatmap(db.corr(),cmap=\"YlGnBu\",annot=True)"
   ]
  },
  {
   "cell_type": "markdown",
   "id": "4ec97de4",
   "metadata": {},
   "source": [
    "* Heat map represents the Number of convenience stores variable have high correlation value is 0.57.\n",
    "* latitude,longitude variables have correlation values 0.55,0.52 respectively."
   ]
  },
  {
   "cell_type": "markdown",
   "id": "f7e9c15b",
   "metadata": {},
   "source": [
    "## multicollinearity to find VIF- (variance_inflation_factor)"
   ]
  },
  {
   "cell_type": "code",
   "execution_count": 23,
   "id": "4c6d3862",
   "metadata": {},
   "outputs": [
    {
     "name": "stdout",
     "output_type": "stream",
     "text": [
      "                                   features           VIF\n",
      "0                          Transaction date  4.264162e+07\n",
      "1                                 House Age  3.500035e+00\n",
      "2  Distance from nearest Metro station (km)  4.287569e+00\n",
      "3              Number of convenience stores  4.758596e+00\n",
      "4                                  latitude  6.184837e+06\n",
      "5                                 longitude  4.212056e+07\n",
      "6                        Number of bedrooms  1.607817e+01\n",
      "7                         House size (sqft)  1.902631e+01\n"
     ]
    }
   ],
   "source": [
    "from statsmodels.stats.outliers_influence import variance_inflation_factor\n",
    "q=db[['Transaction date','House Age','Distance from nearest Metro station (km)','Number of convenience stores','latitude','longitude','Number of bedrooms','House size (sqft)']]\n",
    "vif=pd.DataFrame()\n",
    "vif['features']=q.columns\n",
    "vif['VIF']=[variance_inflation_factor(q.values,i) for i in range(len(q.columns))]\n",
    "print(vif)"
   ]
  },
  {
   "cell_type": "markdown",
   "id": "a5656701",
   "metadata": {},
   "source": [
    "# Fitting the model"
   ]
  },
  {
   "cell_type": "markdown",
   "id": "7750baab",
   "metadata": {},
   "source": [
    "### Splitting the Dataset"
   ]
  },
  {
   "cell_type": "code",
   "execution_count": 60,
   "id": "faadd1b8",
   "metadata": {},
   "outputs": [],
   "source": [
    "# Splitting the dataset into x-independent variable and y-dependent variable.\n",
    "x=db.drop(\"House price of unit area\",axis=1)\n",
    "y=db[\"House price of unit area\"]"
   ]
  },
  {
   "cell_type": "code",
   "execution_count": 25,
   "id": "fffaadb5",
   "metadata": {},
   "outputs": [
    {
     "data": {
      "text/html": [
       "<div>\n",
       "<style scoped>\n",
       "    .dataframe tbody tr th:only-of-type {\n",
       "        vertical-align: middle;\n",
       "    }\n",
       "\n",
       "    .dataframe tbody tr th {\n",
       "        vertical-align: top;\n",
       "    }\n",
       "\n",
       "    .dataframe thead th {\n",
       "        text-align: right;\n",
       "    }\n",
       "</style>\n",
       "<table border=\"1\" class=\"dataframe\">\n",
       "  <thead>\n",
       "    <tr style=\"text-align: right;\">\n",
       "      <th></th>\n",
       "      <th>Transaction date</th>\n",
       "      <th>House Age</th>\n",
       "      <th>Distance from nearest Metro station (km)</th>\n",
       "      <th>Number of convenience stores</th>\n",
       "      <th>latitude</th>\n",
       "      <th>longitude</th>\n",
       "      <th>Number of bedrooms</th>\n",
       "      <th>House size (sqft)</th>\n",
       "    </tr>\n",
       "  </thead>\n",
       "  <tbody>\n",
       "    <tr>\n",
       "      <th>0</th>\n",
       "      <td>2012.916667</td>\n",
       "      <td>32.0</td>\n",
       "      <td>84.87882</td>\n",
       "      <td>10</td>\n",
       "      <td>24.98298</td>\n",
       "      <td>121.54024</td>\n",
       "      <td>1</td>\n",
       "      <td>575</td>\n",
       "    </tr>\n",
       "    <tr>\n",
       "      <th>1</th>\n",
       "      <td>2012.916667</td>\n",
       "      <td>19.5</td>\n",
       "      <td>306.59470</td>\n",
       "      <td>9</td>\n",
       "      <td>24.98034</td>\n",
       "      <td>121.53951</td>\n",
       "      <td>2</td>\n",
       "      <td>1240</td>\n",
       "    </tr>\n",
       "    <tr>\n",
       "      <th>2</th>\n",
       "      <td>2013.583333</td>\n",
       "      <td>13.3</td>\n",
       "      <td>561.98450</td>\n",
       "      <td>5</td>\n",
       "      <td>24.98746</td>\n",
       "      <td>121.54391</td>\n",
       "      <td>3</td>\n",
       "      <td>1060</td>\n",
       "    </tr>\n",
       "    <tr>\n",
       "      <th>3</th>\n",
       "      <td>2013.500000</td>\n",
       "      <td>13.3</td>\n",
       "      <td>561.98450</td>\n",
       "      <td>5</td>\n",
       "      <td>24.98746</td>\n",
       "      <td>121.54391</td>\n",
       "      <td>2</td>\n",
       "      <td>875</td>\n",
       "    </tr>\n",
       "    <tr>\n",
       "      <th>4</th>\n",
       "      <td>2012.833333</td>\n",
       "      <td>5.0</td>\n",
       "      <td>390.56840</td>\n",
       "      <td>5</td>\n",
       "      <td>24.97937</td>\n",
       "      <td>121.54245</td>\n",
       "      <td>1</td>\n",
       "      <td>491</td>\n",
       "    </tr>\n",
       "    <tr>\n",
       "      <th>...</th>\n",
       "      <td>...</td>\n",
       "      <td>...</td>\n",
       "      <td>...</td>\n",
       "      <td>...</td>\n",
       "      <td>...</td>\n",
       "      <td>...</td>\n",
       "      <td>...</td>\n",
       "      <td>...</td>\n",
       "    </tr>\n",
       "    <tr>\n",
       "      <th>409</th>\n",
       "      <td>2013.000000</td>\n",
       "      <td>13.7</td>\n",
       "      <td>4082.01500</td>\n",
       "      <td>0</td>\n",
       "      <td>24.94155</td>\n",
       "      <td>121.50381</td>\n",
       "      <td>3</td>\n",
       "      <td>803</td>\n",
       "    </tr>\n",
       "    <tr>\n",
       "      <th>410</th>\n",
       "      <td>2012.666667</td>\n",
       "      <td>5.6</td>\n",
       "      <td>90.45606</td>\n",
       "      <td>9</td>\n",
       "      <td>24.97433</td>\n",
       "      <td>121.54310</td>\n",
       "      <td>2</td>\n",
       "      <td>1278</td>\n",
       "    </tr>\n",
       "    <tr>\n",
       "      <th>411</th>\n",
       "      <td>2013.250000</td>\n",
       "      <td>18.8</td>\n",
       "      <td>390.96960</td>\n",
       "      <td>7</td>\n",
       "      <td>24.97923</td>\n",
       "      <td>121.53986</td>\n",
       "      <td>1</td>\n",
       "      <td>503</td>\n",
       "    </tr>\n",
       "    <tr>\n",
       "      <th>412</th>\n",
       "      <td>2013.000000</td>\n",
       "      <td>8.1</td>\n",
       "      <td>104.81010</td>\n",
       "      <td>5</td>\n",
       "      <td>24.96674</td>\n",
       "      <td>121.54067</td>\n",
       "      <td>1</td>\n",
       "      <td>597</td>\n",
       "    </tr>\n",
       "    <tr>\n",
       "      <th>413</th>\n",
       "      <td>2013.500000</td>\n",
       "      <td>6.5</td>\n",
       "      <td>90.45606</td>\n",
       "      <td>9</td>\n",
       "      <td>24.97433</td>\n",
       "      <td>121.54310</td>\n",
       "      <td>2</td>\n",
       "      <td>1097</td>\n",
       "    </tr>\n",
       "  </tbody>\n",
       "</table>\n",
       "<p>414 rows × 8 columns</p>\n",
       "</div>"
      ],
      "text/plain": [
       "     Transaction date  House Age  Distance from nearest Metro station (km)  \\\n",
       "0         2012.916667       32.0                                  84.87882   \n",
       "1         2012.916667       19.5                                 306.59470   \n",
       "2         2013.583333       13.3                                 561.98450   \n",
       "3         2013.500000       13.3                                 561.98450   \n",
       "4         2012.833333        5.0                                 390.56840   \n",
       "..                ...        ...                                       ...   \n",
       "409       2013.000000       13.7                                4082.01500   \n",
       "410       2012.666667        5.6                                  90.45606   \n",
       "411       2013.250000       18.8                                 390.96960   \n",
       "412       2013.000000        8.1                                 104.81010   \n",
       "413       2013.500000        6.5                                  90.45606   \n",
       "\n",
       "     Number of convenience stores  latitude  longitude  Number of bedrooms  \\\n",
       "0                              10  24.98298  121.54024                   1   \n",
       "1                               9  24.98034  121.53951                   2   \n",
       "2                               5  24.98746  121.54391                   3   \n",
       "3                               5  24.98746  121.54391                   2   \n",
       "4                               5  24.97937  121.54245                   1   \n",
       "..                            ...       ...        ...                 ...   \n",
       "409                             0  24.94155  121.50381                   3   \n",
       "410                             9  24.97433  121.54310                   2   \n",
       "411                             7  24.97923  121.53986                   1   \n",
       "412                             5  24.96674  121.54067                   1   \n",
       "413                             9  24.97433  121.54310                   2   \n",
       "\n",
       "     House size (sqft)  \n",
       "0                  575  \n",
       "1                 1240  \n",
       "2                 1060  \n",
       "3                  875  \n",
       "4                  491  \n",
       "..                 ...  \n",
       "409                803  \n",
       "410               1278  \n",
       "411                503  \n",
       "412                597  \n",
       "413               1097  \n",
       "\n",
       "[414 rows x 8 columns]"
      ]
     },
     "execution_count": 25,
     "metadata": {},
     "output_type": "execute_result"
    }
   ],
   "source": [
    "# x is a independent variable\n",
    "x"
   ]
  },
  {
   "cell_type": "code",
   "execution_count": 26,
   "id": "e1d9b9ee",
   "metadata": {
    "scrolled": false
   },
   "outputs": [
    {
     "data": {
      "text/plain": [
       "0      37.9\n",
       "1      42.2\n",
       "2      47.3\n",
       "3      54.8\n",
       "4      43.1\n",
       "       ... \n",
       "409    15.4\n",
       "410    50.0\n",
       "411    40.6\n",
       "412    52.5\n",
       "413    63.9\n",
       "Name: House price of unit area, Length: 414, dtype: float64"
      ]
     },
     "execution_count": 26,
     "metadata": {},
     "output_type": "execute_result"
    }
   ],
   "source": [
    "# y is a depenent or target variable\n",
    "y"
   ]
  },
  {
   "cell_type": "code",
   "execution_count": 27,
   "id": "89385dce",
   "metadata": {},
   "outputs": [],
   "source": [
    "from sklearn.model_selection import train_test_split\n",
    "x_train,x_test,y_train,y_test =train_test_split(x,y)"
   ]
  },
  {
   "cell_type": "code",
   "execution_count": 28,
   "id": "6ac8eec3",
   "metadata": {},
   "outputs": [
    {
     "data": {
      "text/html": [
       "<div>\n",
       "<style scoped>\n",
       "    .dataframe tbody tr th:only-of-type {\n",
       "        vertical-align: middle;\n",
       "    }\n",
       "\n",
       "    .dataframe tbody tr th {\n",
       "        vertical-align: top;\n",
       "    }\n",
       "\n",
       "    .dataframe thead th {\n",
       "        text-align: right;\n",
       "    }\n",
       "</style>\n",
       "<table border=\"1\" class=\"dataframe\">\n",
       "  <thead>\n",
       "    <tr style=\"text-align: right;\">\n",
       "      <th></th>\n",
       "      <th>Transaction date</th>\n",
       "      <th>House Age</th>\n",
       "      <th>Distance from nearest Metro station (km)</th>\n",
       "      <th>Number of convenience stores</th>\n",
       "      <th>latitude</th>\n",
       "      <th>longitude</th>\n",
       "      <th>Number of bedrooms</th>\n",
       "      <th>House size (sqft)</th>\n",
       "    </tr>\n",
       "  </thead>\n",
       "  <tbody>\n",
       "    <tr>\n",
       "      <th>205</th>\n",
       "      <td>2013.083333</td>\n",
       "      <td>12.8</td>\n",
       "      <td>1449.7220</td>\n",
       "      <td>3</td>\n",
       "      <td>24.97289</td>\n",
       "      <td>121.51728</td>\n",
       "      <td>2</td>\n",
       "      <td>945</td>\n",
       "    </tr>\n",
       "    <tr>\n",
       "      <th>411</th>\n",
       "      <td>2013.250000</td>\n",
       "      <td>18.8</td>\n",
       "      <td>390.9696</td>\n",
       "      <td>7</td>\n",
       "      <td>24.97923</td>\n",
       "      <td>121.53986</td>\n",
       "      <td>1</td>\n",
       "      <td>503</td>\n",
       "    </tr>\n",
       "    <tr>\n",
       "      <th>61</th>\n",
       "      <td>2013.500000</td>\n",
       "      <td>5.3</td>\n",
       "      <td>259.6607</td>\n",
       "      <td>6</td>\n",
       "      <td>24.97585</td>\n",
       "      <td>121.54516</td>\n",
       "      <td>3</td>\n",
       "      <td>1083</td>\n",
       "    </tr>\n",
       "    <tr>\n",
       "      <th>357</th>\n",
       "      <td>2013.416667</td>\n",
       "      <td>0.0</td>\n",
       "      <td>338.9679</td>\n",
       "      <td>9</td>\n",
       "      <td>24.96853</td>\n",
       "      <td>121.54413</td>\n",
       "      <td>3</td>\n",
       "      <td>1319</td>\n",
       "    </tr>\n",
       "    <tr>\n",
       "      <th>18</th>\n",
       "      <td>2013.416667</td>\n",
       "      <td>16.9</td>\n",
       "      <td>368.1363</td>\n",
       "      <td>8</td>\n",
       "      <td>24.96750</td>\n",
       "      <td>121.54451</td>\n",
       "      <td>3</td>\n",
       "      <td>1291</td>\n",
       "    </tr>\n",
       "    <tr>\n",
       "      <th>...</th>\n",
       "      <td>...</td>\n",
       "      <td>...</td>\n",
       "      <td>...</td>\n",
       "      <td>...</td>\n",
       "      <td>...</td>\n",
       "      <td>...</td>\n",
       "      <td>...</td>\n",
       "      <td>...</td>\n",
       "    </tr>\n",
       "    <tr>\n",
       "      <th>295</th>\n",
       "      <td>2013.166667</td>\n",
       "      <td>18.2</td>\n",
       "      <td>2179.5900</td>\n",
       "      <td>3</td>\n",
       "      <td>24.96299</td>\n",
       "      <td>121.51252</td>\n",
       "      <td>3</td>\n",
       "      <td>899</td>\n",
       "    </tr>\n",
       "    <tr>\n",
       "      <th>216</th>\n",
       "      <td>2013.250000</td>\n",
       "      <td>37.8</td>\n",
       "      <td>590.9292</td>\n",
       "      <td>1</td>\n",
       "      <td>24.97153</td>\n",
       "      <td>121.53559</td>\n",
       "      <td>3</td>\n",
       "      <td>1140</td>\n",
       "    </tr>\n",
       "    <tr>\n",
       "      <th>236</th>\n",
       "      <td>2013.166667</td>\n",
       "      <td>3.6</td>\n",
       "      <td>373.8389</td>\n",
       "      <td>10</td>\n",
       "      <td>24.98322</td>\n",
       "      <td>121.53765</td>\n",
       "      <td>3</td>\n",
       "      <td>1117</td>\n",
       "    </tr>\n",
       "    <tr>\n",
       "      <th>187</th>\n",
       "      <td>2013.000000</td>\n",
       "      <td>8.9</td>\n",
       "      <td>3078.1760</td>\n",
       "      <td>0</td>\n",
       "      <td>24.95464</td>\n",
       "      <td>121.56627</td>\n",
       "      <td>3</td>\n",
       "      <td>1175</td>\n",
       "    </tr>\n",
       "    <tr>\n",
       "      <th>319</th>\n",
       "      <td>2013.250000</td>\n",
       "      <td>34.6</td>\n",
       "      <td>272.6783</td>\n",
       "      <td>5</td>\n",
       "      <td>24.95562</td>\n",
       "      <td>121.53872</td>\n",
       "      <td>1</td>\n",
       "      <td>402</td>\n",
       "    </tr>\n",
       "  </tbody>\n",
       "</table>\n",
       "<p>310 rows × 8 columns</p>\n",
       "</div>"
      ],
      "text/plain": [
       "     Transaction date  House Age  Distance from nearest Metro station (km)  \\\n",
       "205       2013.083333       12.8                                 1449.7220   \n",
       "411       2013.250000       18.8                                  390.9696   \n",
       "61        2013.500000        5.3                                  259.6607   \n",
       "357       2013.416667        0.0                                  338.9679   \n",
       "18        2013.416667       16.9                                  368.1363   \n",
       "..                ...        ...                                       ...   \n",
       "295       2013.166667       18.2                                 2179.5900   \n",
       "216       2013.250000       37.8                                  590.9292   \n",
       "236       2013.166667        3.6                                  373.8389   \n",
       "187       2013.000000        8.9                                 3078.1760   \n",
       "319       2013.250000       34.6                                  272.6783   \n",
       "\n",
       "     Number of convenience stores  latitude  longitude  Number of bedrooms  \\\n",
       "205                             3  24.97289  121.51728                   2   \n",
       "411                             7  24.97923  121.53986                   1   \n",
       "61                              6  24.97585  121.54516                   3   \n",
       "357                             9  24.96853  121.54413                   3   \n",
       "18                              8  24.96750  121.54451                   3   \n",
       "..                            ...       ...        ...                 ...   \n",
       "295                             3  24.96299  121.51252                   3   \n",
       "216                             1  24.97153  121.53559                   3   \n",
       "236                            10  24.98322  121.53765                   3   \n",
       "187                             0  24.95464  121.56627                   3   \n",
       "319                             5  24.95562  121.53872                   1   \n",
       "\n",
       "     House size (sqft)  \n",
       "205                945  \n",
       "411                503  \n",
       "61                1083  \n",
       "357               1319  \n",
       "18                1291  \n",
       "..                 ...  \n",
       "295                899  \n",
       "216               1140  \n",
       "236               1117  \n",
       "187               1175  \n",
       "319                402  \n",
       "\n",
       "[310 rows x 8 columns]"
      ]
     },
     "execution_count": 28,
     "metadata": {},
     "output_type": "execute_result"
    }
   ],
   "source": [
    "x_train"
   ]
  },
  {
   "cell_type": "code",
   "execution_count": 29,
   "id": "a1407011",
   "metadata": {
    "scrolled": true
   },
   "outputs": [
    {
     "data": {
      "text/plain": [
       "205    21.4\n",
       "411    40.6\n",
       "61     63.2\n",
       "357    44.9\n",
       "18     42.3\n",
       "       ... \n",
       "295    21.8\n",
       "216    39.7\n",
       "236    61.9\n",
       "187    22.0\n",
       "319    26.9\n",
       "Name: House price of unit area, Length: 310, dtype: float64"
      ]
     },
     "execution_count": 29,
     "metadata": {},
     "output_type": "execute_result"
    }
   ],
   "source": [
    "y_train"
   ]
  },
  {
   "cell_type": "code",
   "execution_count": 30,
   "id": "96b8e412",
   "metadata": {
    "scrolled": true
   },
   "outputs": [
    {
     "data": {
      "text/html": [
       "<div>\n",
       "<style scoped>\n",
       "    .dataframe tbody tr th:only-of-type {\n",
       "        vertical-align: middle;\n",
       "    }\n",
       "\n",
       "    .dataframe tbody tr th {\n",
       "        vertical-align: top;\n",
       "    }\n",
       "\n",
       "    .dataframe thead th {\n",
       "        text-align: right;\n",
       "    }\n",
       "</style>\n",
       "<table border=\"1\" class=\"dataframe\">\n",
       "  <thead>\n",
       "    <tr style=\"text-align: right;\">\n",
       "      <th></th>\n",
       "      <th>Transaction date</th>\n",
       "      <th>House Age</th>\n",
       "      <th>Distance from nearest Metro station (km)</th>\n",
       "      <th>Number of convenience stores</th>\n",
       "      <th>latitude</th>\n",
       "      <th>longitude</th>\n",
       "      <th>Number of bedrooms</th>\n",
       "      <th>House size (sqft)</th>\n",
       "    </tr>\n",
       "  </thead>\n",
       "  <tbody>\n",
       "    <tr>\n",
       "      <th>113</th>\n",
       "      <td>2013.333333</td>\n",
       "      <td>14.8</td>\n",
       "      <td>393.2606</td>\n",
       "      <td>6</td>\n",
       "      <td>24.96172</td>\n",
       "      <td>121.53812</td>\n",
       "      <td>2</td>\n",
       "      <td>1365</td>\n",
       "    </tr>\n",
       "    <tr>\n",
       "      <th>279</th>\n",
       "      <td>2013.416667</td>\n",
       "      <td>2.6</td>\n",
       "      <td>1554.2500</td>\n",
       "      <td>3</td>\n",
       "      <td>24.97026</td>\n",
       "      <td>121.51642</td>\n",
       "      <td>1</td>\n",
       "      <td>440</td>\n",
       "    </tr>\n",
       "    <tr>\n",
       "      <th>407</th>\n",
       "      <td>2013.000000</td>\n",
       "      <td>5.2</td>\n",
       "      <td>2408.9930</td>\n",
       "      <td>0</td>\n",
       "      <td>24.95505</td>\n",
       "      <td>121.55964</td>\n",
       "      <td>1</td>\n",
       "      <td>587</td>\n",
       "    </tr>\n",
       "    <tr>\n",
       "      <th>111</th>\n",
       "      <td>2013.583333</td>\n",
       "      <td>33.3</td>\n",
       "      <td>196.6172</td>\n",
       "      <td>7</td>\n",
       "      <td>24.97701</td>\n",
       "      <td>121.54224</td>\n",
       "      <td>2</td>\n",
       "      <td>1136</td>\n",
       "    </tr>\n",
       "    <tr>\n",
       "      <th>278</th>\n",
       "      <td>2012.750000</td>\n",
       "      <td>0.0</td>\n",
       "      <td>208.3905</td>\n",
       "      <td>6</td>\n",
       "      <td>24.95618</td>\n",
       "      <td>121.53844</td>\n",
       "      <td>2</td>\n",
       "      <td>1448</td>\n",
       "    </tr>\n",
       "    <tr>\n",
       "      <th>...</th>\n",
       "      <td>...</td>\n",
       "      <td>...</td>\n",
       "      <td>...</td>\n",
       "      <td>...</td>\n",
       "      <td>...</td>\n",
       "      <td>...</td>\n",
       "      <td>...</td>\n",
       "      <td>...</td>\n",
       "    </tr>\n",
       "    <tr>\n",
       "      <th>93</th>\n",
       "      <td>2012.916667</td>\n",
       "      <td>31.9</td>\n",
       "      <td>1146.3290</td>\n",
       "      <td>0</td>\n",
       "      <td>24.94920</td>\n",
       "      <td>121.53076</td>\n",
       "      <td>1</td>\n",
       "      <td>536</td>\n",
       "    </tr>\n",
       "    <tr>\n",
       "      <th>89</th>\n",
       "      <td>2013.500000</td>\n",
       "      <td>23.0</td>\n",
       "      <td>3947.9450</td>\n",
       "      <td>0</td>\n",
       "      <td>24.94783</td>\n",
       "      <td>121.50243</td>\n",
       "      <td>1</td>\n",
       "      <td>471</td>\n",
       "    </tr>\n",
       "    <tr>\n",
       "      <th>396</th>\n",
       "      <td>2012.666667</td>\n",
       "      <td>37.1</td>\n",
       "      <td>918.6357</td>\n",
       "      <td>1</td>\n",
       "      <td>24.97198</td>\n",
       "      <td>121.55063</td>\n",
       "      <td>2</td>\n",
       "      <td>907</td>\n",
       "    </tr>\n",
       "    <tr>\n",
       "      <th>310</th>\n",
       "      <td>2013.583333</td>\n",
       "      <td>16.4</td>\n",
       "      <td>1643.4990</td>\n",
       "      <td>2</td>\n",
       "      <td>24.95394</td>\n",
       "      <td>121.55174</td>\n",
       "      <td>3</td>\n",
       "      <td>886</td>\n",
       "    </tr>\n",
       "    <tr>\n",
       "      <th>92</th>\n",
       "      <td>2012.916667</td>\n",
       "      <td>20.6</td>\n",
       "      <td>2469.6450</td>\n",
       "      <td>4</td>\n",
       "      <td>24.96108</td>\n",
       "      <td>121.51046</td>\n",
       "      <td>3</td>\n",
       "      <td>1316</td>\n",
       "    </tr>\n",
       "  </tbody>\n",
       "</table>\n",
       "<p>104 rows × 8 columns</p>\n",
       "</div>"
      ],
      "text/plain": [
       "     Transaction date  House Age  Distance from nearest Metro station (km)  \\\n",
       "113       2013.333333       14.8                                  393.2606   \n",
       "279       2013.416667        2.6                                 1554.2500   \n",
       "407       2013.000000        5.2                                 2408.9930   \n",
       "111       2013.583333       33.3                                  196.6172   \n",
       "278       2012.750000        0.0                                  208.3905   \n",
       "..                ...        ...                                       ...   \n",
       "93        2012.916667       31.9                                 1146.3290   \n",
       "89        2013.500000       23.0                                 3947.9450   \n",
       "396       2012.666667       37.1                                  918.6357   \n",
       "310       2013.583333       16.4                                 1643.4990   \n",
       "92        2012.916667       20.6                                 2469.6450   \n",
       "\n",
       "     Number of convenience stores  latitude  longitude  Number of bedrooms  \\\n",
       "113                             6  24.96172  121.53812                   2   \n",
       "279                             3  24.97026  121.51642                   1   \n",
       "407                             0  24.95505  121.55964                   1   \n",
       "111                             7  24.97701  121.54224                   2   \n",
       "278                             6  24.95618  121.53844                   2   \n",
       "..                            ...       ...        ...                 ...   \n",
       "93                              0  24.94920  121.53076                   1   \n",
       "89                              0  24.94783  121.50243                   1   \n",
       "396                             1  24.97198  121.55063                   2   \n",
       "310                             2  24.95394  121.55174                   3   \n",
       "92                              4  24.96108  121.51046                   3   \n",
       "\n",
       "     House size (sqft)  \n",
       "113               1365  \n",
       "279                440  \n",
       "407                587  \n",
       "111               1136  \n",
       "278               1448  \n",
       "..                 ...  \n",
       "93                 536  \n",
       "89                 471  \n",
       "396                907  \n",
       "310                886  \n",
       "92                1316  \n",
       "\n",
       "[104 rows x 8 columns]"
      ]
     },
     "execution_count": 30,
     "metadata": {},
     "output_type": "execute_result"
    }
   ],
   "source": [
    "x_test"
   ]
  },
  {
   "cell_type": "code",
   "execution_count": 31,
   "id": "29379cac",
   "metadata": {},
   "outputs": [
    {
     "data": {
      "text/plain": [
       "113     7.6\n",
       "279    31.1\n",
       "407    22.3\n",
       "111    39.4\n",
       "278    44.0\n",
       "       ... \n",
       "93     16.1\n",
       "89     25.3\n",
       "396    31.9\n",
       "310    24.7\n",
       "92     21.8\n",
       "Name: House price of unit area, Length: 104, dtype: float64"
      ]
     },
     "execution_count": 31,
     "metadata": {},
     "output_type": "execute_result"
    }
   ],
   "source": [
    "y_test"
   ]
  },
  {
   "cell_type": "markdown",
   "id": "098f03af",
   "metadata": {},
   "source": [
    "## model building and fit  linear regression Model"
   ]
  },
  {
   "cell_type": "code",
   "execution_count": 32,
   "id": "7e2b1958",
   "metadata": {},
   "outputs": [],
   "source": [
    "import statsmodels.api as sm"
   ]
  },
  {
   "cell_type": "code",
   "execution_count": 33,
   "id": "2e07ee39",
   "metadata": {},
   "outputs": [
    {
     "data": {
      "text/plain": [
       "<module 'statsmodels.api' from 'C:\\\\ProgramData\\\\Anaconda3\\\\lib\\\\site-packages\\\\statsmodels\\\\api.py'>"
      ]
     },
     "execution_count": 33,
     "metadata": {},
     "output_type": "execute_result"
    }
   ],
   "source": [
    "sm"
   ]
  },
  {
   "cell_type": "code",
   "execution_count": 61,
   "id": "1e53c3f3",
   "metadata": {},
   "outputs": [
    {
     "name": "stderr",
     "output_type": "stream",
     "text": [
      "C:\\ProgramData\\Anaconda3\\lib\\site-packages\\statsmodels\\tsa\\tsatools.py:142: FutureWarning:\n",
      "\n",
      "In a future version of pandas all arguments of concat except for the argument 'objs' will be keyword-only\n",
      "\n"
     ]
    },
    {
     "data": {
      "text/html": [
       "<div>\n",
       "<style scoped>\n",
       "    .dataframe tbody tr th:only-of-type {\n",
       "        vertical-align: middle;\n",
       "    }\n",
       "\n",
       "    .dataframe tbody tr th {\n",
       "        vertical-align: top;\n",
       "    }\n",
       "\n",
       "    .dataframe thead th {\n",
       "        text-align: right;\n",
       "    }\n",
       "</style>\n",
       "<table border=\"1\" class=\"dataframe\">\n",
       "  <thead>\n",
       "    <tr style=\"text-align: right;\">\n",
       "      <th></th>\n",
       "      <th>const</th>\n",
       "      <th>Transaction date</th>\n",
       "      <th>House Age</th>\n",
       "      <th>Distance from nearest Metro station (km)</th>\n",
       "      <th>Number of convenience stores</th>\n",
       "      <th>latitude</th>\n",
       "      <th>longitude</th>\n",
       "      <th>Number of bedrooms</th>\n",
       "      <th>House size (sqft)</th>\n",
       "    </tr>\n",
       "  </thead>\n",
       "  <tbody>\n",
       "    <tr>\n",
       "      <th>205</th>\n",
       "      <td>1.0</td>\n",
       "      <td>2013.083333</td>\n",
       "      <td>12.8</td>\n",
       "      <td>1449.7220</td>\n",
       "      <td>3</td>\n",
       "      <td>24.97289</td>\n",
       "      <td>121.51728</td>\n",
       "      <td>2</td>\n",
       "      <td>945</td>\n",
       "    </tr>\n",
       "    <tr>\n",
       "      <th>411</th>\n",
       "      <td>1.0</td>\n",
       "      <td>2013.250000</td>\n",
       "      <td>18.8</td>\n",
       "      <td>390.9696</td>\n",
       "      <td>7</td>\n",
       "      <td>24.97923</td>\n",
       "      <td>121.53986</td>\n",
       "      <td>1</td>\n",
       "      <td>503</td>\n",
       "    </tr>\n",
       "    <tr>\n",
       "      <th>61</th>\n",
       "      <td>1.0</td>\n",
       "      <td>2013.500000</td>\n",
       "      <td>5.3</td>\n",
       "      <td>259.6607</td>\n",
       "      <td>6</td>\n",
       "      <td>24.97585</td>\n",
       "      <td>121.54516</td>\n",
       "      <td>3</td>\n",
       "      <td>1083</td>\n",
       "    </tr>\n",
       "    <tr>\n",
       "      <th>357</th>\n",
       "      <td>1.0</td>\n",
       "      <td>2013.416667</td>\n",
       "      <td>0.0</td>\n",
       "      <td>338.9679</td>\n",
       "      <td>9</td>\n",
       "      <td>24.96853</td>\n",
       "      <td>121.54413</td>\n",
       "      <td>3</td>\n",
       "      <td>1319</td>\n",
       "    </tr>\n",
       "    <tr>\n",
       "      <th>18</th>\n",
       "      <td>1.0</td>\n",
       "      <td>2013.416667</td>\n",
       "      <td>16.9</td>\n",
       "      <td>368.1363</td>\n",
       "      <td>8</td>\n",
       "      <td>24.96750</td>\n",
       "      <td>121.54451</td>\n",
       "      <td>3</td>\n",
       "      <td>1291</td>\n",
       "    </tr>\n",
       "    <tr>\n",
       "      <th>...</th>\n",
       "      <td>...</td>\n",
       "      <td>...</td>\n",
       "      <td>...</td>\n",
       "      <td>...</td>\n",
       "      <td>...</td>\n",
       "      <td>...</td>\n",
       "      <td>...</td>\n",
       "      <td>...</td>\n",
       "      <td>...</td>\n",
       "    </tr>\n",
       "    <tr>\n",
       "      <th>295</th>\n",
       "      <td>1.0</td>\n",
       "      <td>2013.166667</td>\n",
       "      <td>18.2</td>\n",
       "      <td>2179.5900</td>\n",
       "      <td>3</td>\n",
       "      <td>24.96299</td>\n",
       "      <td>121.51252</td>\n",
       "      <td>3</td>\n",
       "      <td>899</td>\n",
       "    </tr>\n",
       "    <tr>\n",
       "      <th>216</th>\n",
       "      <td>1.0</td>\n",
       "      <td>2013.250000</td>\n",
       "      <td>37.8</td>\n",
       "      <td>590.9292</td>\n",
       "      <td>1</td>\n",
       "      <td>24.97153</td>\n",
       "      <td>121.53559</td>\n",
       "      <td>3</td>\n",
       "      <td>1140</td>\n",
       "    </tr>\n",
       "    <tr>\n",
       "      <th>236</th>\n",
       "      <td>1.0</td>\n",
       "      <td>2013.166667</td>\n",
       "      <td>3.6</td>\n",
       "      <td>373.8389</td>\n",
       "      <td>10</td>\n",
       "      <td>24.98322</td>\n",
       "      <td>121.53765</td>\n",
       "      <td>3</td>\n",
       "      <td>1117</td>\n",
       "    </tr>\n",
       "    <tr>\n",
       "      <th>187</th>\n",
       "      <td>1.0</td>\n",
       "      <td>2013.000000</td>\n",
       "      <td>8.9</td>\n",
       "      <td>3078.1760</td>\n",
       "      <td>0</td>\n",
       "      <td>24.95464</td>\n",
       "      <td>121.56627</td>\n",
       "      <td>3</td>\n",
       "      <td>1175</td>\n",
       "    </tr>\n",
       "    <tr>\n",
       "      <th>319</th>\n",
       "      <td>1.0</td>\n",
       "      <td>2013.250000</td>\n",
       "      <td>34.6</td>\n",
       "      <td>272.6783</td>\n",
       "      <td>5</td>\n",
       "      <td>24.95562</td>\n",
       "      <td>121.53872</td>\n",
       "      <td>1</td>\n",
       "      <td>402</td>\n",
       "    </tr>\n",
       "  </tbody>\n",
       "</table>\n",
       "<p>310 rows × 9 columns</p>\n",
       "</div>"
      ],
      "text/plain": [
       "     const  Transaction date  House Age  \\\n",
       "205    1.0       2013.083333       12.8   \n",
       "411    1.0       2013.250000       18.8   \n",
       "61     1.0       2013.500000        5.3   \n",
       "357    1.0       2013.416667        0.0   \n",
       "18     1.0       2013.416667       16.9   \n",
       "..     ...               ...        ...   \n",
       "295    1.0       2013.166667       18.2   \n",
       "216    1.0       2013.250000       37.8   \n",
       "236    1.0       2013.166667        3.6   \n",
       "187    1.0       2013.000000        8.9   \n",
       "319    1.0       2013.250000       34.6   \n",
       "\n",
       "     Distance from nearest Metro station (km)  Number of convenience stores  \\\n",
       "205                                 1449.7220                             3   \n",
       "411                                  390.9696                             7   \n",
       "61                                   259.6607                             6   \n",
       "357                                  338.9679                             9   \n",
       "18                                   368.1363                             8   \n",
       "..                                        ...                           ...   \n",
       "295                                 2179.5900                             3   \n",
       "216                                  590.9292                             1   \n",
       "236                                  373.8389                            10   \n",
       "187                                 3078.1760                             0   \n",
       "319                                  272.6783                             5   \n",
       "\n",
       "     latitude  longitude  Number of bedrooms  House size (sqft)  \n",
       "205  24.97289  121.51728                   2                945  \n",
       "411  24.97923  121.53986                   1                503  \n",
       "61   24.97585  121.54516                   3               1083  \n",
       "357  24.96853  121.54413                   3               1319  \n",
       "18   24.96750  121.54451                   3               1291  \n",
       "..        ...        ...                 ...                ...  \n",
       "295  24.96299  121.51252                   3                899  \n",
       "216  24.97153  121.53559                   3               1140  \n",
       "236  24.98322  121.53765                   3               1117  \n",
       "187  24.95464  121.56627                   3               1175  \n",
       "319  24.95562  121.53872                   1                402  \n",
       "\n",
       "[310 rows x 9 columns]"
      ]
     },
     "execution_count": 61,
     "metadata": {},
     "output_type": "execute_result"
    }
   ],
   "source": [
    "# Adding constant to the our training dataset because we have coefficient for the constant\n",
    "cons=sm.add_constant(x_train)\n",
    "cons"
   ]
  },
  {
   "cell_type": "code",
   "execution_count": 62,
   "id": "957c545d",
   "metadata": {},
   "outputs": [
    {
     "data": {
      "text/plain": [
       "<statsmodels.regression.linear_model.RegressionResultsWrapper at 0x2417bd98190>"
      ]
     },
     "execution_count": 62,
     "metadata": {},
     "output_type": "execute_result"
    }
   ],
   "source": [
    "# Applyong Ordinary least square method \n",
    "olmd=sm.OLS(y_train,cons).fit()\n",
    "olmd"
   ]
  },
  {
   "cell_type": "code",
   "execution_count": 36,
   "id": "2d4a25e6",
   "metadata": {},
   "outputs": [
    {
     "data": {
      "text/plain": [
       "const                                      -16957.665789\n",
       "Transaction date                                4.955309\n",
       "House Age                                      -0.225744\n",
       "Distance from nearest Metro station (km)       -0.004157\n",
       "Number of convenience stores                    1.223156\n",
       "latitude                                      200.887221\n",
       "longitude                                      16.519475\n",
       "Number of bedrooms                              0.309910\n",
       "House size (sqft)                              -0.000611\n",
       "dtype: float64"
      ]
     },
     "execution_count": 36,
     "metadata": {},
     "output_type": "execute_result"
    }
   ],
   "source": [
    "olmd.params"
   ]
  },
  {
   "cell_type": "code",
   "execution_count": 37,
   "id": "cc7cb15e",
   "metadata": {},
   "outputs": [
    {
     "name": "stdout",
     "output_type": "stream",
     "text": [
      "                               OLS Regression Results                               \n",
      "====================================================================================\n",
      "Dep. Variable:     House price of unit area   R-squared:                       0.605\n",
      "Model:                                  OLS   Adj. R-squared:                  0.594\n",
      "Method:                       Least Squares   F-statistic:                     57.60\n",
      "Date:                      Thu, 01 Dec 2022   Prob (F-statistic):           2.71e-56\n",
      "Time:                              11:20:25   Log-Likelihood:                -1087.3\n",
      "No. Observations:                       310   AIC:                             2193.\n",
      "Df Residuals:                           301   BIC:                             2226.\n",
      "Df Model:                                 8                                         \n",
      "Covariance Type:                  nonrobust                                         \n",
      "============================================================================================================\n",
      "                                               coef    std err          t      P>|t|      [0.025      0.975]\n",
      "------------------------------------------------------------------------------------------------------------\n",
      "const                                    -1.696e+04   7441.831     -2.279      0.023   -3.16e+04   -2313.062\n",
      "Transaction date                             4.9553      1.655      2.995      0.003       1.699       8.211\n",
      "House Age                                   -0.2257      0.042     -5.400      0.000      -0.308      -0.143\n",
      "Distance from nearest Metro station (km)    -0.0042      0.001     -5.351      0.000      -0.006      -0.003\n",
      "Number of convenience stores                 1.2232      0.199      6.155      0.000       0.832       1.614\n",
      "latitude                                   200.8872     46.722      4.300      0.000     108.945     292.830\n",
      "longitude                                   16.5195     53.995      0.306      0.760     -89.736     122.775\n",
      "Number of bedrooms                           0.3099      0.851      0.364      0.716      -1.365       1.985\n",
      "House size (sqft)                           -0.0006      0.002     -0.303      0.762      -0.005       0.003\n",
      "==============================================================================\n",
      "Omnibus:                       55.043   Durbin-Watson:                   1.919\n",
      "Prob(Omnibus):                  0.000   Jarque-Bera (JB):               98.560\n",
      "Skew:                           0.977   Prob(JB):                     3.96e-22\n",
      "Kurtosis:                       4.952   Cond. No.                     4.04e+07\n",
      "==============================================================================\n",
      "\n",
      "Notes:\n",
      "[1] Standard Errors assume that the covariance matrix of the errors is correctly specified.\n",
      "[2] The condition number is large, 4.04e+07. This might indicate that there are\n",
      "strong multicollinearity or other numerical problems.\n"
     ]
    }
   ],
   "source": [
    "print(olmd.summary())"
   ]
  },
  {
   "cell_type": "markdown",
   "id": "121c2bc7",
   "metadata": {},
   "source": [
    "## check model over fitted or under fitted test data"
   ]
  },
  {
   "cell_type": "code",
   "execution_count": 38,
   "id": "29e7d3b0",
   "metadata": {
    "scrolled": true
   },
   "outputs": [
    {
     "name": "stderr",
     "output_type": "stream",
     "text": [
      "C:\\ProgramData\\Anaconda3\\lib\\site-packages\\statsmodels\\tsa\\tsatools.py:142: FutureWarning:\n",
      "\n",
      "In a future version of pandas all arguments of concat except for the argument 'objs' will be keyword-only\n",
      "\n"
     ]
    },
    {
     "data": {
      "text/html": [
       "<div>\n",
       "<style scoped>\n",
       "    .dataframe tbody tr th:only-of-type {\n",
       "        vertical-align: middle;\n",
       "    }\n",
       "\n",
       "    .dataframe tbody tr th {\n",
       "        vertical-align: top;\n",
       "    }\n",
       "\n",
       "    .dataframe thead th {\n",
       "        text-align: right;\n",
       "    }\n",
       "</style>\n",
       "<table border=\"1\" class=\"dataframe\">\n",
       "  <thead>\n",
       "    <tr style=\"text-align: right;\">\n",
       "      <th></th>\n",
       "      <th>const</th>\n",
       "      <th>Transaction date</th>\n",
       "      <th>House Age</th>\n",
       "      <th>Distance from nearest Metro station (km)</th>\n",
       "      <th>Number of convenience stores</th>\n",
       "      <th>latitude</th>\n",
       "      <th>longitude</th>\n",
       "      <th>Number of bedrooms</th>\n",
       "      <th>House size (sqft)</th>\n",
       "    </tr>\n",
       "  </thead>\n",
       "  <tbody>\n",
       "    <tr>\n",
       "      <th>113</th>\n",
       "      <td>1.0</td>\n",
       "      <td>2013.333333</td>\n",
       "      <td>14.8</td>\n",
       "      <td>393.2606</td>\n",
       "      <td>6</td>\n",
       "      <td>24.96172</td>\n",
       "      <td>121.53812</td>\n",
       "      <td>2</td>\n",
       "      <td>1365</td>\n",
       "    </tr>\n",
       "    <tr>\n",
       "      <th>279</th>\n",
       "      <td>1.0</td>\n",
       "      <td>2013.416667</td>\n",
       "      <td>2.6</td>\n",
       "      <td>1554.2500</td>\n",
       "      <td>3</td>\n",
       "      <td>24.97026</td>\n",
       "      <td>121.51642</td>\n",
       "      <td>1</td>\n",
       "      <td>440</td>\n",
       "    </tr>\n",
       "    <tr>\n",
       "      <th>407</th>\n",
       "      <td>1.0</td>\n",
       "      <td>2013.000000</td>\n",
       "      <td>5.2</td>\n",
       "      <td>2408.9930</td>\n",
       "      <td>0</td>\n",
       "      <td>24.95505</td>\n",
       "      <td>121.55964</td>\n",
       "      <td>1</td>\n",
       "      <td>587</td>\n",
       "    </tr>\n",
       "    <tr>\n",
       "      <th>111</th>\n",
       "      <td>1.0</td>\n",
       "      <td>2013.583333</td>\n",
       "      <td>33.3</td>\n",
       "      <td>196.6172</td>\n",
       "      <td>7</td>\n",
       "      <td>24.97701</td>\n",
       "      <td>121.54224</td>\n",
       "      <td>2</td>\n",
       "      <td>1136</td>\n",
       "    </tr>\n",
       "    <tr>\n",
       "      <th>278</th>\n",
       "      <td>1.0</td>\n",
       "      <td>2012.750000</td>\n",
       "      <td>0.0</td>\n",
       "      <td>208.3905</td>\n",
       "      <td>6</td>\n",
       "      <td>24.95618</td>\n",
       "      <td>121.53844</td>\n",
       "      <td>2</td>\n",
       "      <td>1448</td>\n",
       "    </tr>\n",
       "    <tr>\n",
       "      <th>...</th>\n",
       "      <td>...</td>\n",
       "      <td>...</td>\n",
       "      <td>...</td>\n",
       "      <td>...</td>\n",
       "      <td>...</td>\n",
       "      <td>...</td>\n",
       "      <td>...</td>\n",
       "      <td>...</td>\n",
       "      <td>...</td>\n",
       "    </tr>\n",
       "    <tr>\n",
       "      <th>93</th>\n",
       "      <td>1.0</td>\n",
       "      <td>2012.916667</td>\n",
       "      <td>31.9</td>\n",
       "      <td>1146.3290</td>\n",
       "      <td>0</td>\n",
       "      <td>24.94920</td>\n",
       "      <td>121.53076</td>\n",
       "      <td>1</td>\n",
       "      <td>536</td>\n",
       "    </tr>\n",
       "    <tr>\n",
       "      <th>89</th>\n",
       "      <td>1.0</td>\n",
       "      <td>2013.500000</td>\n",
       "      <td>23.0</td>\n",
       "      <td>3947.9450</td>\n",
       "      <td>0</td>\n",
       "      <td>24.94783</td>\n",
       "      <td>121.50243</td>\n",
       "      <td>1</td>\n",
       "      <td>471</td>\n",
       "    </tr>\n",
       "    <tr>\n",
       "      <th>396</th>\n",
       "      <td>1.0</td>\n",
       "      <td>2012.666667</td>\n",
       "      <td>37.1</td>\n",
       "      <td>918.6357</td>\n",
       "      <td>1</td>\n",
       "      <td>24.97198</td>\n",
       "      <td>121.55063</td>\n",
       "      <td>2</td>\n",
       "      <td>907</td>\n",
       "    </tr>\n",
       "    <tr>\n",
       "      <th>310</th>\n",
       "      <td>1.0</td>\n",
       "      <td>2013.583333</td>\n",
       "      <td>16.4</td>\n",
       "      <td>1643.4990</td>\n",
       "      <td>2</td>\n",
       "      <td>24.95394</td>\n",
       "      <td>121.55174</td>\n",
       "      <td>3</td>\n",
       "      <td>886</td>\n",
       "    </tr>\n",
       "    <tr>\n",
       "      <th>92</th>\n",
       "      <td>1.0</td>\n",
       "      <td>2012.916667</td>\n",
       "      <td>20.6</td>\n",
       "      <td>2469.6450</td>\n",
       "      <td>4</td>\n",
       "      <td>24.96108</td>\n",
       "      <td>121.51046</td>\n",
       "      <td>3</td>\n",
       "      <td>1316</td>\n",
       "    </tr>\n",
       "  </tbody>\n",
       "</table>\n",
       "<p>104 rows × 9 columns</p>\n",
       "</div>"
      ],
      "text/plain": [
       "     const  Transaction date  House Age  \\\n",
       "113    1.0       2013.333333       14.8   \n",
       "279    1.0       2013.416667        2.6   \n",
       "407    1.0       2013.000000        5.2   \n",
       "111    1.0       2013.583333       33.3   \n",
       "278    1.0       2012.750000        0.0   \n",
       "..     ...               ...        ...   \n",
       "93     1.0       2012.916667       31.9   \n",
       "89     1.0       2013.500000       23.0   \n",
       "396    1.0       2012.666667       37.1   \n",
       "310    1.0       2013.583333       16.4   \n",
       "92     1.0       2012.916667       20.6   \n",
       "\n",
       "     Distance from nearest Metro station (km)  Number of convenience stores  \\\n",
       "113                                  393.2606                             6   \n",
       "279                                 1554.2500                             3   \n",
       "407                                 2408.9930                             0   \n",
       "111                                  196.6172                             7   \n",
       "278                                  208.3905                             6   \n",
       "..                                        ...                           ...   \n",
       "93                                  1146.3290                             0   \n",
       "89                                  3947.9450                             0   \n",
       "396                                  918.6357                             1   \n",
       "310                                 1643.4990                             2   \n",
       "92                                  2469.6450                             4   \n",
       "\n",
       "     latitude  longitude  Number of bedrooms  House size (sqft)  \n",
       "113  24.96172  121.53812                   2               1365  \n",
       "279  24.97026  121.51642                   1                440  \n",
       "407  24.95505  121.55964                   1                587  \n",
       "111  24.97701  121.54224                   2               1136  \n",
       "278  24.95618  121.53844                   2               1448  \n",
       "..        ...        ...                 ...                ...  \n",
       "93   24.94920  121.53076                   1                536  \n",
       "89   24.94783  121.50243                   1                471  \n",
       "396  24.97198  121.55063                   2                907  \n",
       "310  24.95394  121.55174                   3                886  \n",
       "92   24.96108  121.51046                   3               1316  \n",
       "\n",
       "[104 rows x 9 columns]"
      ]
     },
     "execution_count": 38,
     "metadata": {},
     "output_type": "execute_result"
    }
   ],
   "source": [
    "test_p=sm.add_constant(x_test)\n",
    "test_p"
   ]
  },
  {
   "cell_type": "code",
   "execution_count": 39,
   "id": "50e9de85",
   "metadata": {
    "scrolled": false
   },
   "outputs": [
    {
     "data": {
      "text/plain": [
       "113    43.409383\n",
       "279    39.692997\n",
       "407    27.387420\n",
       "111    45.792068\n",
       "278    43.469959\n",
       "         ...    \n",
       "93     24.574862\n",
       "89     17.124839\n",
       "396    29.319562\n",
       "310    33.461811\n",
       "92     28.711926\n",
       "Length: 104, dtype: float64"
      ]
     },
     "execution_count": 39,
     "metadata": {},
     "output_type": "execute_result"
    }
   ],
   "source": [
    "pred=olmd.predict(test_p)\n",
    "pred"
   ]
  },
  {
   "cell_type": "markdown",
   "id": "0e38ba27",
   "metadata": {},
   "source": [
    "* Prediction values of House price of unit area by using Linear regression model with Ordinary least square method."
   ]
  },
  {
   "cell_type": "code",
   "execution_count": 40,
   "id": "ebbd3a40",
   "metadata": {},
   "outputs": [
    {
     "data": {
      "text/plain": [
       "113     7.6\n",
       "279    31.1\n",
       "407    22.3\n",
       "111    39.4\n",
       "278    44.0\n",
       "       ... \n",
       "93     16.1\n",
       "89     25.3\n",
       "396    31.9\n",
       "310    24.7\n",
       "92     21.8\n",
       "Name: House price of unit area, Length: 104, dtype: float64"
      ]
     },
     "execution_count": 40,
     "metadata": {},
     "output_type": "execute_result"
    }
   ],
   "source": [
    "y_test"
   ]
  },
  {
   "cell_type": "markdown",
   "id": "42ebd4e6",
   "metadata": {},
   "source": [
    "##  Looking RMSE-return the mean square error"
   ]
  },
  {
   "cell_type": "code",
   "execution_count": 41,
   "id": "e3ee74b0",
   "metadata": {},
   "outputs": [],
   "source": [
    "from sklearn.metrics import mean_squared_error,r2_score"
   ]
  },
  {
   "cell_type": "code",
   "execution_count": 42,
   "id": "0417a9e0",
   "metadata": {},
   "outputs": [
    {
     "data": {
      "text/plain": [
       "10.728681999526344"
      ]
     },
     "execution_count": 42,
     "metadata": {},
     "output_type": "execute_result"
    }
   ],
   "source": [
    "np.sqrt(mean_squared_error(y_test,pred))"
   ]
  },
  {
   "cell_type": "code",
   "execution_count": 43,
   "id": "45d5551a",
   "metadata": {},
   "outputs": [
    {
     "data": {
      "text/plain": [
       "0.506250266018677"
      ]
     },
     "execution_count": 43,
     "metadata": {},
     "output_type": "execute_result"
    }
   ],
   "source": [
    "r_sq=r2_score(y_test,pred)\n",
    "r_sq"
   ]
  },
  {
   "cell_type": "markdown",
   "id": "2023b5a7",
   "metadata": {},
   "source": [
    "## Conclusion"
   ]
  },
  {
   "cell_type": "markdown",
   "id": "161e477e",
   "metadata": {},
   "source": [
    "* *The R2 value of train data is 0.580*\n",
    "* *The R2 value of test data is 0.567*\n",
    "* Usually, the larger the R2, the better the regression model fits our observations. but here r2 value was have very less, we conclude that this model is Over Fitted and not preferred to further."
   ]
  },
  {
   "cell_type": "markdown",
   "id": "6e136986",
   "metadata": {},
   "source": [
    "* Number of convenience stores,Number of bedrooms & House size (sqft) This are the independent variables are impacting the price of the houses respectively."
   ]
  }
 ],
 "metadata": {
  "kernelspec": {
   "display_name": "Python 3 (ipykernel)",
   "language": "python",
   "name": "python3"
  },
  "language_info": {
   "codemirror_mode": {
    "name": "ipython",
    "version": 3
   },
   "file_extension": ".py",
   "mimetype": "text/x-python",
   "name": "python",
   "nbconvert_exporter": "python",
   "pygments_lexer": "ipython3",
   "version": "3.9.7"
  }
 },
 "nbformat": 4,
 "nbformat_minor": 5
}
